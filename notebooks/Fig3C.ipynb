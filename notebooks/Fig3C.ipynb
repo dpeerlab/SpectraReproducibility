{
 "cells": [
  {
   "cell_type": "code",
   "execution_count": 2,
   "id": "5ef17f94",
   "metadata": {},
   "outputs": [
    {
     "name": "stdout",
     "output_type": "stream",
     "text": [
      "netNMFMU imported\n",
      "netNMFGD imported\n"
     ]
    }
   ],
   "source": [
    "#5000 subset, 4000 genes, only global gene sets for SLALOM and netNMF\n",
    "from sklearn.decomposition import NMF\n",
    "from EM_SPADE import EMSPADE\n",
    "from pyspade_global import * \n",
    "from opt_einsum import contract\n",
    "import itertools\n",
    "from scipy.stats import spearmanr\n",
    "import numpy as np \n",
    "import seaborn as sns\n",
    "import pandas as pd\n",
    "import matplotlib.pyplot as plt\n",
    "import netNMFsc\n",
    "import joblib\n",
    "from util import *\n",
    "from schpf import scHPF, run_trials, run_trials_pool\n",
    "from schpf import load_model, save_model\n",
    "import numpy as np\n",
    "import pickle\n",
    "from ZIFA import ZIFA\n",
    "import slalom\n",
    "from slalom import plotFactors, plotRelevance, saveFA, dumpFA\n",
    "from util import *"
   ]
  },
  {
   "cell_type": "code",
   "execution_count": 3,
   "id": "42ae70b0",
   "metadata": {},
   "outputs": [],
   "source": [
    "def create_mask(input_lst, G_input, D):\n",
    "    input_mask = np.zeros((G_input, D))\n",
    "    for i in range(len(input_lst)):\n",
    "        for input_ in input_lst[i]:\n",
    "            input_mask[i,input_]  = 1.0 \n",
    "    return input_mask"
   ]
  },
  {
   "cell_type": "code",
   "execution_count": 4,
   "id": "1dbf7743",
   "metadata": {},
   "outputs": [],
   "source": [
    "def corr_single2(w1, w2, W):\n",
    "    eps = 0.01\n",
    "    dw1 = W[:, w1]\n",
    "    dw2 = W[:, w2]\n",
    "   \n",
    "    correlation = np.corrcoef(dw1, dw2)[0,1]\n",
    "    if np.isnan(correlation):\n",
    "        correlation = 0.0\n",
    "    return correlation"
   ]
  },
  {
   "cell_type": "code",
   "execution_count": 5,
   "id": "4b1d6020",
   "metadata": {},
   "outputs": [],
   "source": [
    "def corr_ind2(topics, W):\n",
    "    scores = []\n",
    "    count = 0\n",
    "    K, V = topics.shape[0], topics.shape[1]\n",
    "    for i in range(K):\n",
    "        score = 0\n",
    "        topic = topics[i]\n",
    "        for j1 in range(len(topic) - 1):\n",
    "            for j2 in range(j1 + 1, len(topic)):\n",
    "                sc = corr_single2(topic[j1], topic[j2], W)\n",
    "                score += sc\n",
    "        scores.append(score)\n",
    "    return np.array(scores) / ((V * (V - 1) / 2))"
   ]
  },
  {
   "cell_type": "code",
   "execution_count": 6,
   "id": "370a19a4",
   "metadata": {},
   "outputs": [],
   "source": [
    "def corr_ind(topics, W):\n",
    "    scores = []\n",
    "    count = 0\n",
    "    K, V = topics.shape[0], topics.shape[1]\n",
    "    for i in range(K):\n",
    "        score = []\n",
    "        topic = topics[i]\n",
    "        for j1 in range(len(topic) - 1):\n",
    "            for j2 in range(j1 + 1, len(topic)):\n",
    "                sc = corr_single(topic[j1], topic[j2], W)\n",
    "                score.append(sc)\n",
    "        scores.append(np.median(score))\n",
    "    return np.array(scores)"
   ]
  },
  {
   "cell_type": "code",
   "execution_count": 7,
   "id": "5d432df0",
   "metadata": {},
   "outputs": [],
   "source": [
    "def coherence_single(w1, w2, W):\n",
    "    if (w1 == -1)|(w2 == -1):\n",
    "        return -1\n",
    "    eps = 0.01\n",
    "    dw1 = W[:, w1] > 0\n",
    "    dw2 = W[:, w2] > 0\n",
    "    N = W.shape[0]\n",
    "\n",
    "    dw1w2 = (dw1 & dw2).float().sum() / N + eps\n",
    "    dw1 = dw1.float().sum() / N + eps\n",
    "    dw2 = dw2.float().sum() / N + eps\n",
    "\n",
    "    return dw1w2.log() - dw1.log() - dw2.log()\n",
    "\n",
    "\n",
    "# calc coherence of topics based on W\n",
    "# See appendix of https://arxiv.org/pdf/1910.05495.pdf for details\n",
    "def coherence(topics, W):\n",
    "    score = 0\n",
    "    count = 0\n",
    "    tot = 0\n",
    "    K, V = topics.shape[0], topics.shape[1]\n",
    "    for i in range(K):\n",
    "        topic = topics[i]\n",
    "        for j1 in range(len(topic) - 1):\n",
    "            for j2 in range(j1 + 1, len(topic)):\n",
    "                sc = coherence_single(topic[j1], topic[j2], W)\n",
    "                if sc == -1:\n",
    "                    tot += 1\n",
    "                else:\n",
    "                    score += sc\n",
    "    return score / ((K * V * (V - 1) / 2) - tot)\n"
   ]
  },
  {
   "cell_type": "markdown",
   "id": "5a80fcac",
   "metadata": {},
   "source": [
    "## Bassez Coherences"
   ]
  },
  {
   "cell_type": "code",
   "execution_count": 9,
   "id": "748346bc",
   "metadata": {},
   "outputs": [
    {
     "name": "stderr",
     "output_type": "stream",
     "text": [
      "/home/kunesr/miniconda3/envs/spade_baselines/lib/python3.7/site-packages/anndata/compat/_overloaded_dict.py:106: ImplicitModificationWarning: Trying to modify attribute `._uns` of view, initializing view as actual.\n",
      "  self.data[key] = value\n"
     ]
    }
   ],
   "source": [
    "X_bassez, adata2, word2id, id2word, labels, vocab, adict, weights, gene_names_dict, gs_dict, gs_names = process_Bassez_train(pseudocount = 0.0, hv = 1000)"
   ]
  },
  {
   "cell_type": "code",
   "execution_count": 11,
   "id": "0726cce3",
   "metadata": {},
   "outputs": [],
   "source": [
    "FILE = \"data/TEST_BRCA-X-TIL-X-Bassez_2021-X-cohort1_2_raw_filtered_clustered_drops_annotated_nodrops_log1p_clustered_leukocytes_scran_annotated_clustered_imputed_hvgenes_andmarker_15000_clustered_imputed_v2_210501_annotated_211208.h5ad\"\n",
    "adata_test = sc.read_h5ad(FILE)"
   ]
  },
  {
   "cell_type": "code",
   "execution_count": 12,
   "id": "8f07b3df",
   "metadata": {},
   "outputs": [],
   "source": [
    "msk = np.array([var_name in adata2.var_names for var_name in adata_test.var_names])"
   ]
  },
  {
   "cell_type": "code",
   "execution_count": 13,
   "id": "8939a172",
   "metadata": {},
   "outputs": [],
   "source": [
    "adata_test = adata_test[:,msk]"
   ]
  },
  {
   "cell_type": "code",
   "execution_count": 14,
   "id": "964f4b15",
   "metadata": {},
   "outputs": [],
   "source": [
    "test_set = torch.Tensor(adata_test.X)"
   ]
  },
  {
   "cell_type": "code",
   "execution_count": 21,
   "id": "1cc2fd55",
   "metadata": {},
   "outputs": [
    {
     "name": "stderr",
     "output_type": "stream",
     "text": [
      "/home/kunesr/miniconda3/envs/spade_baselines/lib/python3.7/site-packages/numpy/lib/function_base.py:380: RuntimeWarning: Mean of empty slice.\n",
      "  avg = a.mean(axis)\n",
      "/home/kunesr/miniconda3/envs/spade_baselines/lib/python3.7/site-packages/numpy/core/_methods.py:181: RuntimeWarning: invalid value encountered in true_divide\n",
      "  ret, rcount, out=ret, casting='unsafe', subok=False)\n",
      "/home/kunesr/miniconda3/envs/spade_baselines/lib/python3.7/site-packages/numpy/lib/function_base.py:2634: RuntimeWarning: Degrees of freedom <= 0 for slice\n",
      "  c = cov(x, y, rowvar, dtype=dtype)\n",
      "/home/kunesr/miniconda3/envs/spade_baselines/lib/python3.7/site-packages/numpy/lib/function_base.py:2493: RuntimeWarning: divide by zero encountered in true_divide\n",
      "  c *= np.true_divide(1, fact)\n",
      "/home/kunesr/miniconda3/envs/spade_baselines/lib/python3.7/site-packages/numpy/lib/function_base.py:2493: RuntimeWarning: invalid value encountered in multiply\n",
      "  c *= np.true_divide(1, fact)\n"
     ]
    }
   ],
   "source": [
    "slalom_corr = []\n",
    "slalom_coh = []\n",
    "slalom_new_corr = []\n",
    "slalom_new_coh = []\n",
    "for i in range(5):\n",
    "    FA = pickle.load(open(\"baseline_models/slalom_result_subset_svg\" + str(i) + \".pickle\", \"rb\"))\n",
    "    factor_matrix = FA.getW()*FA.getZ()\n",
    "    idx_matrix = np.argsort(factor_matrix.T,axis = 1)[:,::-1][:,:50]\n",
    "    a = corr_ind(idx_matrix,test_set)\n",
    "    b = coherence_ind(idx_matrix,test_set)\n",
    "    \n",
    "    factor_matrix_new = factor_matrix[:,:10]\n",
    "    idx_matrix_new = np.argsort(factor_matrix_new.T,axis = 1)[:,::-1][:,:50]\n",
    "    a_new = corr_ind(idx_matrix_new,test_set)\n",
    "    b_new = coherence_ind(idx_matrix_new,test_set)\n",
    "    slalom_corr.append(np.median(a))\n",
    "    slalom_coh.append(np.median(b))\n",
    "    slalom_new_corr.append(np.median(a_new))\n",
    "    slalom_new_coh.append(np.median(b_new))"
   ]
  },
  {
   "cell_type": "code",
   "execution_count": 24,
   "id": "342eb996",
   "metadata": {},
   "outputs": [
    {
     "data": {
      "text/plain": [
       "[0.6230624, 0.53134656, 0.44301817, 0.5838946, 0.56410813]"
      ]
     },
     "execution_count": 24,
     "metadata": {},
     "output_type": "execute_result"
    }
   ],
   "source": [
    "spade_corr = []\n",
    "spade_coh = []\n",
    "spade_new_corr = []\n",
    "spade_new_coh = []\n",
    "lam = 0.01\n",
    "for i in range(5):\n",
    "    rand_perm = np.random.permutation(X_bassez.shape[0])\n",
    "    train_idx = np.load(\"baseline_models/idx_spectra_result_subset_svg_lam\" + str(lam) + \"run\" + str(i) + \".npy\")\n",
    "    X_train = X_bassez[train_idx,:]\n",
    "    \n",
    "    L = OrderedDict({\"global\": len(gs_names[\"global\"]) + 2})\n",
    "    for k in np.unique(labels):\n",
    "        L[k] = len(gs_names[k]) + 1\n",
    "        if k == 'nan':\n",
    "            L[k] = 0\n",
    "\n",
    "    model = SPADE(X = X_train,L = L,labels = labels[train_idx],adj_matrix = adict, weights = weights,lam = 0.1,kappa = 0.00001,rho = 0.001,delta = 0.001,beta=0.0)\n",
    "    model.load_state_dict(torch.load(\"baseline_models/spectra_result_subset_svg_lam\" + str(lam) + \"run\" + str(i)))\n",
    "    out,f = compute_thetas(model)\n",
    "    factors,names,old_factors = return_factor_matrix(model, dim = 1)\n",
    "    markers = return_markers(factors, id2word, n_top_vals= 50)\n",
    "    markers[\"cell_type\"] = f\n",
    "    markers[\"eta\"] = B_diag(model)\n",
    "    markers[\"eta_high\"] = (markers[\"eta\"] > 0.5).astype(int)\n",
    "    idx_matrix = np.argsort(factors,axis = 1)[:,::-1][:,:50]\n",
    "    a = corr_ind(idx_matrix,test_set)\n",
    "    b = coherence_ind(idx_matrix,test_set)\n",
    "    a_new = corr_ind(idx_matrix[markers[\"eta_high\"] == 0],test_set)\n",
    "    b_new = coherence_ind(idx_matrix[markers[\"eta_high\"] == 0],test_set)\n",
    "    spade_corr.append(np.median(a))\n",
    "    spade_coh.append(np.median(b))\n",
    "    spade_new_corr.append(np.median(a_new))\n",
    "    spade_new_coh.append(np.median(b_new))"
   ]
  },
  {
   "cell_type": "code",
   "execution_count": 28,
   "id": "e91f5756",
   "metadata": {},
   "outputs": [
    {
     "name": "stdout",
     "output_type": "stream",
     "text": [
      "[Iter.    0]  loss:27.932743  pct:100.000000000\n",
      "[Iter.   10]  loss:1.747169  pct:-93.745084433\n",
      "[Iter.   20]  loss:1.843349  pct:5.504923987\n",
      "[Iter.   30]  loss:1.891473  pct:2.610673878\n",
      "[Iter.   40]  loss:1.908761  pct:0.914013931\n",
      "[Iter.   50]  loss:1.915305  pct:0.342846058\n",
      "getting worse break\n",
      "Reprojecting data...\n",
      "[Iter.    0]  loss:1.933964  pct:100.000000000\n",
      "[Iter.    2]  loss:1.934342  pct:0.019546003\n",
      "[Iter.    4]  loss:1.933764  pct:-0.029877169\n",
      "[Iter.    6]  loss:1.933333  pct:-0.022291281\n",
      "[Iter.    8]  loss:1.933001  pct:-0.017153808\n",
      "[Iter.   10]  loss:1.932747  pct:-0.013135830\n",
      "[Iter.   12]  loss:1.932547  pct:-0.010392855\n",
      "[Iter.   14]  loss:1.932388  pct:-0.008204115\n",
      "[Iter.   16]  loss:1.932263  pct:-0.006471296\n",
      "[Iter.   18]  loss:1.932163  pct:-0.005176138\n",
      "[Iter.   20]  loss:1.932082  pct:-0.004201588\n",
      "[Iter.   22]  loss:1.932018  pct:-0.003288606\n",
      "[Iter.   24]  loss:1.931968  pct:-0.002603822\n",
      "[Iter.   26]  loss:1.931923  pct:-0.002313883\n",
      "[Iter.   28]  loss:1.931890  pct:-0.001703057\n",
      "[Iter.   30]  loss:1.931863  pct:-0.001437751\n",
      "[Iter.   32]  loss:1.931840  pct:-0.001178602\n",
      "[Iter.   34]  loss:1.931822  pct:-0.000900932\n",
      "[Iter.   36]  loss:1.931809  pct:-0.000697303\n",
      "converged\n",
      "New best!\n",
      "Trial 0 loss: 1.931809\n",
      "Best loss: 1.931809 (trial 0)\n"
     ]
    },
    {
     "name": "stderr",
     "output_type": "stream",
     "text": [
      "/home/kunesr/miniconda3/envs/spade_baselines/lib/python3.7/site-packages/numpy/lib/function_base.py:2634: RuntimeWarning: Degrees of freedom <= 0 for slice\n",
      "  c = cov(x, y, rowvar, dtype=dtype)\n",
      "/home/kunesr/miniconda3/envs/spade_baselines/lib/python3.7/site-packages/numpy/lib/function_base.py:2493: RuntimeWarning: divide by zero encountered in true_divide\n",
      "  c *= np.true_divide(1, fact)\n",
      "/home/kunesr/miniconda3/envs/spade_baselines/lib/python3.7/site-packages/numpy/lib/function_base.py:2493: RuntimeWarning: invalid value encountered in multiply\n",
      "  c *= np.true_divide(1, fact)\n",
      "/home/kunesr/miniconda3/envs/spade_baselines/lib/python3.7/site-packages/numpy/lib/function_base.py:380: RuntimeWarning: Mean of empty slice.\n",
      "  avg = a.mean(axis)\n",
      "/home/kunesr/miniconda3/envs/spade_baselines/lib/python3.7/site-packages/numpy/core/_methods.py:181: RuntimeWarning: invalid value encountered in true_divide\n",
      "  ret, rcount, out=ret, casting='unsafe', subok=False)\n"
     ]
    },
    {
     "name": "stdout",
     "output_type": "stream",
     "text": [
      "[Iter.    0]  loss:27.919376  pct:100.000000000\n",
      "[Iter.   10]  loss:1.746242  pct:-93.745409998\n",
      "[Iter.   20]  loss:1.843927  pct:5.593991319\n",
      "[Iter.   30]  loss:1.886413  pct:2.304121606\n",
      "[Iter.   40]  loss:1.907900  pct:1.139033711\n",
      "[Iter.   50]  loss:1.913470  pct:0.291959392\n",
      "getting worse break\n",
      "Reprojecting data...\n",
      "[Iter.    0]  loss:1.931998  pct:100.000000000\n",
      "[Iter.    2]  loss:1.932171  pct:0.008946874\n",
      "[Iter.    4]  loss:1.931447  pct:-0.037511812\n",
      "[Iter.    6]  loss:1.930904  pct:-0.028113556\n",
      "[Iter.    8]  loss:1.930489  pct:-0.021484674\n",
      "[Iter.   10]  loss:1.930166  pct:-0.016722126\n",
      "[Iter.   12]  loss:1.929912  pct:-0.013173656\n",
      "[Iter.   14]  loss:1.929705  pct:-0.010686089\n",
      "[Iter.   16]  loss:1.929539  pct:-0.008642449\n",
      "[Iter.   18]  loss:1.929403  pct:-0.007049240\n",
      "[Iter.   20]  loss:1.929288  pct:-0.005956131\n",
      "[Iter.   22]  loss:1.929192  pct:-0.004955500\n",
      "[Iter.   24]  loss:1.929112  pct:-0.004170983\n",
      "[Iter.   26]  loss:1.929043  pct:-0.003559387\n",
      "[Iter.   28]  loss:1.928984  pct:-0.003040418\n",
      "[Iter.   30]  loss:1.928935  pct:-0.002564658\n",
      "[Iter.   32]  loss:1.928890  pct:-0.002323702\n",
      "[Iter.   34]  loss:1.928853  pct:-0.001922043\n",
      "[Iter.   36]  loss:1.928818  pct:-0.001792293\n",
      "[Iter.   38]  loss:1.928791  pct:-0.001427680\n",
      "[Iter.   40]  loss:1.928765  pct:-0.001353534\n",
      "[Iter.   42]  loss:1.928741  pct:-0.001205218\n",
      "[Iter.   44]  loss:1.928722  pct:-0.001001270\n",
      "[Iter.   46]  loss:1.928704  pct:-0.000927111\n",
      "[Iter.   48]  loss:1.928689  pct:-0.000784961\n",
      "converged\n",
      "New best!\n",
      "Trial 0 loss: 1.928689\n",
      "Best loss: 1.928689 (trial 0)\n",
      "[Iter.    0]  loss:27.958929  pct:100.000000000\n",
      "[Iter.   10]  loss:1.746828  pct:-93.752163842\n",
      "[Iter.   20]  loss:1.838947  pct:5.273471968\n",
      "[Iter.   30]  loss:1.883945  pct:2.446933802\n",
      "[Iter.   40]  loss:1.907538  pct:1.252360764\n",
      "[Iter.   50]  loss:1.916254  pct:0.456892039\n",
      "getting worse break\n",
      "Reprojecting data...\n",
      "[Iter.    0]  loss:1.935124  pct:100.000000000\n",
      "[Iter.    2]  loss:1.935434  pct:0.015992118\n",
      "[Iter.    4]  loss:1.934801  pct:-0.032675123\n",
      "[Iter.    6]  loss:1.934338  pct:-0.023942890\n",
      "[Iter.    8]  loss:1.933984  pct:-0.018315829\n",
      "[Iter.   10]  loss:1.933712  pct:-0.014066076\n",
      "[Iter.   12]  loss:1.933498  pct:-0.011041142\n",
      "[Iter.   14]  loss:1.933328  pct:-0.008798129\n",
      "[Iter.   16]  loss:1.933189  pct:-0.007189574\n",
      "[Iter.   18]  loss:1.933076  pct:-0.005827303\n",
      "[Iter.   20]  loss:1.932984  pct:-0.004754616\n",
      "[Iter.   22]  loss:1.932908  pct:-0.003928450\n",
      "[Iter.   24]  loss:1.932845  pct:-0.003293367\n",
      "[Iter.   26]  loss:1.932788  pct:-0.002911087\n",
      "[Iter.   28]  loss:1.932744  pct:-0.002294398\n",
      "[Iter.   30]  loss:1.932703  pct:-0.002127918\n",
      "[Iter.   32]  loss:1.932669  pct:-0.001764050\n",
      "[Iter.   34]  loss:1.932640  pct:-0.001480348\n",
      "[Iter.   36]  loss:1.932615  pct:-0.001326165\n",
      "[Iter.   38]  loss:1.932592  pct:-0.001178144\n",
      "[Iter.   40]  loss:1.932570  pct:-0.001110305\n",
      "[Iter.   42]  loss:1.932554  pct:-0.000838907\n",
      "[Iter.   44]  loss:1.932539  pct:-0.000783397\n",
      "converged\n",
      "New best!\n",
      "Trial 0 loss: 1.932539\n",
      "Best loss: 1.932539 (trial 0)\n",
      "[Iter.    0]  loss:27.995338  pct:100.000000000\n",
      "[Iter.   10]  loss:1.749715  pct:-93.749974451\n",
      "[Iter.   20]  loss:1.830723  pct:4.629780211\n",
      "[Iter.   30]  loss:1.893735  pct:3.441938731\n",
      "[Iter.   40]  loss:1.913026  pct:1.018651685\n",
      "[Iter.   50]  loss:1.922514  pct:0.495973734\n",
      "getting worse break\n",
      "Reprojecting data...\n",
      "[Iter.    0]  loss:1.941446  pct:100.000000000\n",
      "[Iter.    2]  loss:1.941864  pct:0.021546072\n",
      "[Iter.    4]  loss:1.941282  pct:-0.029994708\n",
      "[Iter.    6]  loss:1.940825  pct:-0.023555920\n",
      "[Iter.    8]  loss:1.940457  pct:-0.018924111\n",
      "[Iter.   10]  loss:1.940157  pct:-0.015468981\n",
      "[Iter.   12]  loss:1.939911  pct:-0.012688001\n",
      "[Iter.   14]  loss:1.939704  pct:-0.010698602\n",
      "[Iter.   16]  loss:1.939532  pct:-0.008856023\n",
      "[Iter.   18]  loss:1.939385  pct:-0.007559939\n",
      "[Iter.   20]  loss:1.939260  pct:-0.006435654\n",
      "[Iter.   22]  loss:1.939151  pct:-0.005649233\n",
      "[Iter.   24]  loss:1.939058  pct:-0.004782755\n",
      "[Iter.   26]  loss:1.938976  pct:-0.004217386\n",
      "[Iter.   28]  loss:1.938906  pct:-0.003615055\n",
      "[Iter.   30]  loss:1.938845  pct:-0.003166362\n",
      "[Iter.   32]  loss:1.938792  pct:-0.002723772\n",
      "[Iter.   34]  loss:1.938741  pct:-0.002619320\n",
      "[Iter.   36]  loss:1.938703  pct:-0.001979913\n",
      "[Iter.   38]  loss:1.938662  pct:-0.002090633\n",
      "[Iter.   40]  loss:1.938630  pct:-0.001654094\n",
      "[Iter.   42]  loss:1.938600  pct:-0.001574183\n",
      "[Iter.   44]  loss:1.938574  pct:-0.001340536\n",
      "[Iter.   46]  loss:1.938549  pct:-0.001297509\n",
      "[Iter.   48]  loss:1.938528  pct:-0.001076147\n",
      "New best!\n",
      "Trial 0 loss: 1.938528\n",
      "Best loss: 1.938528 (trial 0)\n",
      "[Iter.    0]  loss:28.134794  pct:100.000000000\n",
      "[Iter.   10]  loss:1.756088  pct:-93.758304247\n",
      "[Iter.   20]  loss:1.840826  pct:4.825351203\n",
      "[Iter.   30]  loss:1.899964  pct:3.212609484\n",
      "[Iter.   40]  loss:1.923436  pct:1.235389214\n",
      "[Iter.   50]  loss:1.933037  pct:0.499171023\n",
      "getting worse break\n",
      "Reprojecting data...\n",
      "[Iter.    0]  loss:1.952075  pct:100.000000000\n",
      "[Iter.    2]  loss:1.952527  pct:0.023156983\n",
      "[Iter.    4]  loss:1.951996  pct:-0.027168966\n",
      "[Iter.    6]  loss:1.951604  pct:-0.020122713\n",
      "[Iter.    8]  loss:1.951310  pct:-0.015063003\n",
      "[Iter.   10]  loss:1.951087  pct:-0.011393647\n",
      "[Iter.   12]  loss:1.950919  pct:-0.008621055\n",
      "[Iter.   14]  loss:1.950790  pct:-0.006611471\n",
      "[Iter.   16]  loss:1.950690  pct:-0.005114757\n",
      "[Iter.   18]  loss:1.950612  pct:-0.004008904\n",
      "[Iter.   20]  loss:1.950553  pct:-0.003049578\n",
      "[Iter.   22]  loss:1.950507  pct:-0.002334618\n",
      "[Iter.   24]  loss:1.950469  pct:-0.001931300\n",
      "[Iter.   26]  loss:1.950441  pct:-0.001466838\n",
      "[Iter.   28]  loss:1.950418  pct:-0.001185712\n",
      "[Iter.   30]  loss:1.950400  pct:-0.000880126\n",
      "[Iter.   32]  loss:1.950384  pct:-0.000837350\n",
      "converged\n",
      "New best!\n",
      "Trial 0 loss: 1.950384\n",
      "Best loss: 1.950384 (trial 0)\n"
     ]
    }
   ],
   "source": [
    "schpf_corr = []\n",
    "schpf_coh = []\n",
    "for i in range(5):\n",
    "    rand_perm = np.random.permutation(X_bassez.shape[0])\n",
    "    train_idx = rand_perm[:10000]\n",
    "    X_train = X_bassez[train_idx,:]\n",
    "    model_kwargs = dict(a=1.25, c=1.25)\n",
    "    model = run_trials(scipy.sparse.coo_matrix(X_train), vcells=None, nfactors=40, \n",
    "                            ntrials=1, min_iter=20,\n",
    "                            max_iter=1000, check_freq=10,\n",
    "                            epsilon=0.001,\n",
    "                            better_than_n_ago=5, dtype=np.float32,\n",
    "                            verbose=True, model_kwargs=model_kwargs,\n",
    "                            return_all=False, reproject=True,\n",
    "                            batchsize=0,\n",
    "                            beta_theta_simultaneous=True,\n",
    "                            loss_smoothing=1\n",
    "                            )\n",
    "    factors = model.gene_score().T\n",
    "    idx_matrix = np.argsort(factors,axis = 1)[:,::-1][:,:50]\n",
    "    a = corr_ind(idx_matrix,test_set)\n",
    "    b = coherence_ind(idx_matrix,test_set)\n",
    "    schpf_corr.append(np.median(a))\n",
    "    schpf_coh.append(np.median(b))"
   ]
  },
  {
   "cell_type": "code",
   "execution_count": 30,
   "id": "93ad0ff3",
   "metadata": {
    "scrolled": true
   },
   "outputs": [
    {
     "name": "stdout",
     "output_type": "stream",
     "text": [
      "0\n"
     ]
    },
    {
     "name": "stderr",
     "output_type": "stream",
     "text": [
      "/home/kunesr/miniconda3/envs/spade_baselines/lib/python3.7/site-packages/sklearn/decomposition/_nmf.py:1641: ConvergenceWarning: Maximum number of iterations 200 reached. Increase it to improve convergence.\n",
      "  ConvergenceWarning,\n"
     ]
    },
    {
     "name": "stdout",
     "output_type": "stream",
     "text": [
      "done training\n",
      "1\n"
     ]
    },
    {
     "name": "stderr",
     "output_type": "stream",
     "text": [
      "/home/kunesr/miniconda3/envs/spade_baselines/lib/python3.7/site-packages/sklearn/decomposition/_nmf.py:1641: ConvergenceWarning: Maximum number of iterations 200 reached. Increase it to improve convergence.\n",
      "  ConvergenceWarning,\n"
     ]
    },
    {
     "name": "stdout",
     "output_type": "stream",
     "text": [
      "done training\n",
      "2\n"
     ]
    },
    {
     "name": "stderr",
     "output_type": "stream",
     "text": [
      "/home/kunesr/miniconda3/envs/spade_baselines/lib/python3.7/site-packages/sklearn/decomposition/_nmf.py:1641: ConvergenceWarning: Maximum number of iterations 200 reached. Increase it to improve convergence.\n",
      "  ConvergenceWarning,\n"
     ]
    },
    {
     "name": "stdout",
     "output_type": "stream",
     "text": [
      "done training\n"
     ]
    },
    {
     "name": "stderr",
     "output_type": "stream",
     "text": [
      "/home/kunesr/miniconda3/envs/spade_baselines/lib/python3.7/site-packages/numpy/lib/function_base.py:2634: RuntimeWarning: Degrees of freedom <= 0 for slice\n",
      "  c = cov(x, y, rowvar, dtype=dtype)\n",
      "/home/kunesr/miniconda3/envs/spade_baselines/lib/python3.7/site-packages/numpy/lib/function_base.py:2493: RuntimeWarning: divide by zero encountered in true_divide\n",
      "  c *= np.true_divide(1, fact)\n",
      "/home/kunesr/miniconda3/envs/spade_baselines/lib/python3.7/site-packages/numpy/lib/function_base.py:2493: RuntimeWarning: invalid value encountered in multiply\n",
      "  c *= np.true_divide(1, fact)\n"
     ]
    },
    {
     "name": "stdout",
     "output_type": "stream",
     "text": [
      "3\n"
     ]
    },
    {
     "name": "stderr",
     "output_type": "stream",
     "text": [
      "/home/kunesr/miniconda3/envs/spade_baselines/lib/python3.7/site-packages/sklearn/decomposition/_nmf.py:1641: ConvergenceWarning: Maximum number of iterations 200 reached. Increase it to improve convergence.\n",
      "  ConvergenceWarning,\n"
     ]
    },
    {
     "name": "stdout",
     "output_type": "stream",
     "text": [
      "done training\n",
      "4\n"
     ]
    },
    {
     "name": "stderr",
     "output_type": "stream",
     "text": [
      "/home/kunesr/miniconda3/envs/spade_baselines/lib/python3.7/site-packages/sklearn/decomposition/_nmf.py:1641: ConvergenceWarning: Maximum number of iterations 200 reached. Increase it to improve convergence.\n",
      "  ConvergenceWarning,\n"
     ]
    },
    {
     "name": "stdout",
     "output_type": "stream",
     "text": [
      "done training\n"
     ]
    }
   ],
   "source": [
    "nmf_corr = []\n",
    "nmf_coh = []\n",
    "for i in range(5):\n",
    "    print(i)\n",
    "    rand_perm = np.random.permutation(X_bassez.shape[0])\n",
    "    train_idx = rand_perm[:10000]\n",
    "    X_train = X_bassez[train_idx,:]\n",
    "    model = NMF(n_components = 40)\n",
    "    model.fit(X_train)\n",
    "    print(\"done training\")\n",
    "    factors = model.components_\n",
    "    idx_matrix = np.argsort(factors,axis = 1)[:,::-1][:,:50]\n",
    "    a = corr_ind(idx_matrix,test_set)\n",
    "    b = coherence_ind(idx_matrix,test_set)\n",
    "    nmf_corr.append(np.median(a))\n",
    "    nmf_coh.append(np.median(b))"
   ]
  },
  {
   "cell_type": "code",
   "execution_count": 31,
   "id": "c44fa227",
   "metadata": {},
   "outputs": [
    {
     "name": "stdout",
     "output_type": "stream",
     "text": [
      "[0.16084677, 0.15881297, 0.14519204, 0.1677877, 0.14035916]\n"
     ]
    }
   ],
   "source": [
    "print(nmf_coh)"
   ]
  },
  {
   "cell_type": "code",
   "execution_count": 33,
   "id": "14a0f73e",
   "metadata": {},
   "outputs": [],
   "source": [
    "models = [\"spectra_lam0.01\"]*5 + [\"schpf\"]*5 + [\"slalom\"]*5 + [\"nmf\"]*5 "
   ]
  },
  {
   "cell_type": "code",
   "execution_count": 32,
   "id": "f7d1a0ac",
   "metadata": {},
   "outputs": [],
   "source": [
    "coherences = spade_coh +schpf_coh + slalom_coh + nmf_coh "
   ]
  },
  {
   "cell_type": "code",
   "execution_count": 34,
   "id": "7a27a939",
   "metadata": {},
   "outputs": [],
   "source": [
    "sns.set_theme(style=\"whitegrid\")\n",
    "df = pd.DataFrame()\n",
    "#df[\"corr\"] = conditional_correlation\n",
    "df[\"coherence\"] = coherences\n",
    "df[\"model\"] = models"
   ]
  },
  {
   "cell_type": "code",
   "execution_count": 35,
   "id": "0cd53722",
   "metadata": {},
   "outputs": [
    {
     "data": {
      "image/png": "[encoded data removed]",
      "text/plain": [
       "<Figure size 432x288 with 1 Axes>"
      ]
     },
     "metadata": {},
     "output_type": "display_data"
    }
   ],
   "source": [
    "sns.set_style(\"white\")\n",
    "sns.boxplot(data =df, x = \"model\", y = \"coherence\", fliersize=0)\n",
    "sns.stripplot(data = df, x = \"model\", y = \"coherence\", color = \"black\")\n",
    "plt.ylim(0,0.8)\n",
    "plt.savefig(\"figures/coh_subset.svg\")"
   ]
  }
 ],
 "metadata": {
  "kernelspec": {
   "display_name": "Python 3 (ipykernel)",
   "language": "python",
   "name": "python3"
  },
  "language_info": {
   "codemirror_mode": {
    "name": "ipython",
    "version": 3
   },
   "file_extension": ".py",
   "mimetype": "text/x-python",
   "name": "python",
   "nbconvert_exporter": "python",
   "pygments_lexer": "ipython3",
   "version": "3.7.6"
  }
 },
 "nbformat": 4,
 "nbformat_minor": 5
}
