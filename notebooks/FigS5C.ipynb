{
 "cells": [
  {
   "cell_type": "code",
   "execution_count": 4,
   "id": "305503b6",
   "metadata": {},
   "outputs": [],
   "source": [
    "from sklearn.decomposition import NMF\n",
    "from EM_SPADE import EMSPADE\n",
    "from opt_einsum import contract\n",
    "import scanpy as sc\n",
    "import itertools\n",
    "from scipy.stats import spearmanr\n",
    "import numpy as np \n",
    "import seaborn as sns\n",
    "import pandas as pd\n",
    "from pyspade_global import *\n",
    "import matplotlib.pyplot as plt\n",
    "import netNMFsc\n",
    "from sklearn.metrics import roc_curve, auc "
   ]
  },
  {
   "cell_type": "code",
   "execution_count": 5,
   "id": "f2b18aaf",
   "metadata": {},
   "outputs": [],
   "source": [
    "import slalom\n",
    "from slalom import plotFactors, plotRelevance, saveFA, dumpFA\n",
    "from util import *"
   ]
  },
  {
   "cell_type": "markdown",
   "id": "9954ed61",
   "metadata": {},
   "source": [
    "The point of this notebook is to re-do experiments from the slalom paper"
   ]
  },
  {
   "cell_type": "code",
   "execution_count": 6,
   "id": "841f99fa",
   "metadata": {},
   "outputs": [],
   "source": [
    "def simulate_base_data(N,k,p, scale = 1):\n",
    "    theta_star = np.random.exponential(scale = scale, size = (p,k))\n",
    "    theta_star[theta_star < 2] = 0 \n",
    "    cov = np.eye(k) \n",
    "    lst = []\n",
    "    for i in range(N):\n",
    "        a = np.exp(np.random.multivariate_normal(np.zeros(k),cov))\n",
    "        lst.append(a)\n",
    "    A_star = np.array(lst)\n",
    "    A_star[A_star < 1] = 0\n",
    "    global_mean = contract('ik,jk->ij',A_star,theta_star)\n",
    "    data = np.random.poisson(global_mean)\n",
    "    return(data,A_star,theta_star)\n",
    "\n",
    "def create_pathways(n_control_pathways,n_active_pathways, gene_set_size, p, N, overlap,signal_strength):\n",
    "    ct = 0\n",
    "    ct2 = 0\n",
    "    base = np.zeros((n_active_pathways,p))\n",
    "    lst = []\n",
    "    gene_sets = []\n",
    "    for i in range(n_active_pathways):\n",
    "        base[ct2, ct:ct + gene_set_size] = np.random.exponential(scale = signal_strength, size = gene_set_size)\n",
    "        gene_sets.append(list(range(ct,ct + gene_set_size)))\n",
    "        ct = ct + int((1 - overlap)*gene_set_size)\n",
    "        ct2 = ct2 + 1\n",
    "    for i in range(n_control_pathways):\n",
    "        gene_sets.append(list(range(ct,ct + gene_set_size)))\n",
    "        ct = ct + int((1 - overlap)*gene_set_size)\n",
    "        ct2 = ct2 + 1\n",
    "        \n",
    "    cov = np.eye(n_active_pathways) \n",
    "    lst = []\n",
    "    for i in range(N):\n",
    "        a = np.exp(np.random.multivariate_normal(np.zeros(n_active_pathways),cov))\n",
    "        lst.append(a)\n",
    "    A_star = np.array(lst)\n",
    "    A_star[A_star < 1] = 0\n",
    "    global_mean = contract('ik,kj->ij',A_star,base)\n",
    "    data = np.random.poisson(global_mean)\n",
    "    return data,base, A_star,gene_sets\n",
    "\n",
    "def remove(lst,idx):\n",
    "    lst_return = []\n",
    "    for i in range(len(lst)):\n",
    "        if i not in idx:\n",
    "            lst_return.append(lst[i])\n",
    "    return lst_return\n",
    "def noisy_gene_sets(gene_sets,p,FNR,FPR):\n",
    "    noisy = []\n",
    "    q = len(gene_sets[0])\n",
    "    for gene_set in gene_sets:\n",
    "        \n",
    "        to_drop = np.random.permutation(len(gene_set))[:int(FNR*q)]\n",
    "        new_gene_set = remove(gene_set, to_drop)\n",
    "        new_gene_set = new_gene_set + list(np.random.permutation(p)[:int(FPR*q)])\n",
    "        noisy.append(new_gene_set)\n",
    "    return noisy\n",
    "    "
   ]
  },
  {
   "cell_type": "code",
   "execution_count": 7,
   "id": "d44def54",
   "metadata": {},
   "outputs": [],
   "source": [
    "def create_mask(input_lst, G_input, D):\n",
    "    input_mask = np.zeros((G_input, D))\n",
    "    for i in range(len(input_lst)):\n",
    "        for input_ in input_lst[i]:\n",
    "            input_mask[i,input_]  = 1.0 \n",
    "    return input_mask"
   ]
  },
  {
   "cell_type": "code",
   "execution_count": 8,
   "id": "873f3b66",
   "metadata": {},
   "outputs": [],
   "source": [
    "def initialize_total(model,gene_sets,val):    \n",
    "        \"\"\"\n",
    "        form of gene_sets:\n",
    "        \n",
    "        cell_type (inc. global) : set of sets of idxs\n",
    "        \"\"\"\n",
    "        \n",
    "        for ct in model.cell_types:\n",
    "            assert(model.L[ct] >= len(gene_sets[ct]))\n",
    "            count = 0\n",
    "            if model.L[ct] > 0:\n",
    "                if len(model.adj_matrix[ct]) > 0:\n",
    "                    for gene_set in gene_sets[ct]:\n",
    "                        model.theta[ct].data[:,count][gene_set] = val\n",
    "                        count = count + 1\n",
    "                    #for i in range(self.L[ct]):\n",
    "                    #    self.eta[ct].data[i,-1] = -val\n",
    "                    #    self.eta[ct].data[-1,i] = -val\n",
    "                    #self.theta[ct].data[:,-1][self.adj_matrix[ct].sum(axis = 1) == 0] = val\n",
    "                    #self.theta[ct].data[:,-1][self.adj_matrix[ct].sum(axis = 1) != 0] = -val\n",
    "\n",
    "        assert(model.L[\"global\"] >= len(gene_sets[\"global\"]))\n",
    "        count = 0\n",
    "        for gene_set in gene_sets[\"global\"]:\n",
    "            model.theta[\"global\"].data[:,count][gene_set] = val\n",
    "            count = count + 1\n",
    "        #for i in range(self.L[\"global\"]):\n",
    "        #    self.eta[\"global\"].data[i,-1] = -val\n",
    "        #    self.eta[\"global\"].data[-1,i] = -val\n",
    "        #self.theta[\"global\"].data[:,-1][self.adj_matrix[\"global\"].sum(axis = 1) == 0] = val\n",
    "        #self.theta[\"global\"].data[:,-1][self.adj_matrix[\"global\"].sum(axis = 1) != 0] = -val"
   ]
  },
  {
   "cell_type": "markdown",
   "id": "78d8ebe6",
   "metadata": {},
   "source": [
    "## testing fitting and sim functions"
   ]
  },
  {
   "cell_type": "code",
   "execution_count": 32,
   "id": "f4e76144",
   "metadata": {},
   "outputs": [],
   "source": [
    "#base parameters\n",
    "n_active_pathways = 5\n",
    "n_control_pathways = 5\n",
    "gene_set_size = 20\n",
    "p = 1000\n",
    "N = 300 \n",
    "k = 5\n",
    "overlap = 0.3\n",
    "signal_strength = 15\n",
    "lam = 500/((gene_set_size)*(gene_set_size - 1))\n",
    "gene_set_FPR = 0.2\n",
    "gene_set_FNR = 0.2"
   ]
  },
  {
   "cell_type": "code",
   "execution_count": null,
   "id": "729940b4",
   "metadata": {},
   "outputs": [],
   "source": [
    "roc_slalom = []\n",
    "roc_spade = []\n",
    "param_vals = []"
   ]
  },
  {
   "cell_type": "code",
   "execution_count": 38,
   "id": "9e9e6452",
   "metadata": {
    "scrolled": true
   },
   "outputs": [
    {
     "name": "stdout",
     "output_type": "stream",
     "text": [
      "iteration 0\n",
      "Switched off factor 33\n",
      "iteration 100\n",
      "iteration 200\n",
      "iteration 300\n",
      "iteration 400\n",
      "iteration 500\n",
      "iteration 600\n",
      "iteration 700\n",
      "Switched off factor 28\n",
      "iteration 800\n",
      "iteration 900\n",
      "iteration 1000\n",
      "iteration 1100\n",
      "iteration 1200\n",
      "iteration 1300\n",
      "iteration 1400\n",
      "iteration 1500\n",
      "iteration 1600\n",
      "iteration 1700\n",
      "iteration 1800\n",
      "iteration 1900\n"
     ]
    },
    {
     "name": "stderr",
     "output_type": "stream",
     "text": [
      "  1%|▏         | 125/10000 [00:00<00:51, 193.52it/s]"
     ]
    },
    {
     "name": "stdout",
     "output_type": "stream",
     "text": [
      "UPDATING LR TO 0.5\n",
      "UPDATING LR TO 0.1\n"
     ]
    },
    {
     "name": "stderr",
     "output_type": "stream",
     "text": [
      "  4%|▎         | 356/10000 [00:01<00:47, 203.29it/s]"
     ]
    },
    {
     "name": "stdout",
     "output_type": "stream",
     "text": [
      "UPDATING LR TO 0.01\n"
     ]
    },
    {
     "name": "stderr",
     "output_type": "stream",
     "text": [
      "  6%|▌         | 622/10000 [00:03<00:47, 195.73it/s]\n"
     ]
    },
    {
     "name": "stdout",
     "output_type": "stream",
     "text": [
      "UPDATING LR TO 0.001\n",
      "UPDATING LR TO 0.0001\n",
      "iteration 0\n",
      "Switched off factor 30\n",
      "iteration 100\n",
      "iteration 200\n",
      "Switched off factor 26\n",
      "iteration 300\n",
      "iteration 400\n",
      "iteration 500\n",
      "iteration 600\n",
      "iteration 700\n",
      "iteration 800\n",
      "iteration 900\n",
      "iteration 1000\n",
      "iteration 1100\n",
      "iteration 1200\n",
      "iteration 1300\n",
      "iteration 1400\n",
      "iteration 1500\n",
      "iteration 1600\n",
      "iteration 1700\n",
      "iteration 1800\n",
      "iteration 1900\n"
     ]
    },
    {
     "name": "stderr",
     "output_type": "stream",
     "text": [
      "  1%|          | 84/10000 [00:00<00:47, 207.76it/s]"
     ]
    },
    {
     "name": "stdout",
     "output_type": "stream",
     "text": [
      "UPDATING LR TO 0.5\n"
     ]
    },
    {
     "name": "stderr",
     "output_type": "stream",
     "text": [
      "  2%|▏         | 168/10000 [00:00<00:47, 206.72it/s]"
     ]
    },
    {
     "name": "stdout",
     "output_type": "stream",
     "text": [
      "UPDATING LR TO 0.1\n",
      "UPDATING LR TO 0.01\n"
     ]
    },
    {
     "name": "stderr",
     "output_type": "stream",
     "text": [
      "  6%|▌         | 601/10000 [00:02<00:44, 209.74it/s]\n"
     ]
    },
    {
     "name": "stdout",
     "output_type": "stream",
     "text": [
      "UPDATING LR TO 0.001\n",
      "UPDATING LR TO 0.0001\n",
      "iteration 0\n",
      "iteration 100\n",
      "iteration 200\n",
      "iteration 300\n",
      "iteration 400\n",
      "iteration 500\n",
      "iteration 600\n",
      "iteration 700\n",
      "iteration 800\n",
      "iteration 900\n",
      "iteration 1000\n",
      "iteration 1100\n",
      "iteration 1200\n",
      "iteration 1300\n",
      "iteration 1400\n",
      "iteration 1500\n",
      "iteration 1600\n",
      "iteration 1700\n",
      "iteration 1800\n",
      "iteration 1900\n"
     ]
    },
    {
     "name": "stderr",
     "output_type": "stream",
     "text": [
      "  1%|          | 107/10000 [00:00<00:47, 206.10it/s]"
     ]
    },
    {
     "name": "stdout",
     "output_type": "stream",
     "text": [
      "UPDATING LR TO 0.5\n",
      "UPDATING LR TO 0.1\n"
     ]
    },
    {
     "name": "stderr",
     "output_type": "stream",
     "text": [
      "  5%|▌         | 515/10000 [00:02<00:48, 194.83it/s]"
     ]
    },
    {
     "name": "stdout",
     "output_type": "stream",
     "text": [
      "UPDATING LR TO 0.01\n"
     ]
    },
    {
     "name": "stderr",
     "output_type": "stream",
     "text": [
      "  7%|▋         | 673/10000 [00:03<00:45, 204.49it/s]\n"
     ]
    },
    {
     "name": "stdout",
     "output_type": "stream",
     "text": [
      "UPDATING LR TO 0.001\n",
      "UPDATING LR TO 0.0001\n",
      "iteration 0\n",
      "Switched off factor 31\n",
      "iteration 100\n",
      "iteration 200\n",
      "iteration 300\n",
      "iteration 400\n",
      "iteration 500\n",
      "iteration 600\n",
      "iteration 700\n",
      "iteration 800\n",
      "iteration 900\n",
      "iteration 1000\n",
      "iteration 1100\n",
      "iteration 1200\n",
      "iteration 1300\n",
      "iteration 1400\n",
      "iteration 1500\n",
      "iteration 1600\n",
      "iteration 1700\n",
      "iteration 1800\n",
      "iteration 1900\n"
     ]
    },
    {
     "name": "stderr",
     "output_type": "stream",
     "text": [
      "  1%|          | 83/10000 [00:00<00:50, 195.66it/s]"
     ]
    },
    {
     "name": "stdout",
     "output_type": "stream",
     "text": [
      "UPDATING LR TO 0.5\n"
     ]
    },
    {
     "name": "stderr",
     "output_type": "stream",
     "text": [
      "  2%|▏         | 165/10000 [00:00<00:49, 197.61it/s]"
     ]
    },
    {
     "name": "stdout",
     "output_type": "stream",
     "text": [
      "UPDATING LR TO 0.1\n"
     ]
    },
    {
     "name": "stderr",
     "output_type": "stream",
     "text": [
      "  3%|▎         | 261/10000 [00:01<00:55, 176.08it/s]"
     ]
    },
    {
     "name": "stdout",
     "output_type": "stream",
     "text": [
      "UPDATING LR TO 0.01\n",
      "UPDATING LR TO 0.001\n"
     ]
    },
    {
     "name": "stderr",
     "output_type": "stream",
     "text": [
      "  3%|▎         | 270/10000 [00:01<00:52, 186.09it/s]\n"
     ]
    },
    {
     "name": "stdout",
     "output_type": "stream",
     "text": [
      "UPDATING LR TO 0.0001\n",
      "iteration 0\n",
      "Switched off factor 9\n",
      "Switched off factor 13\n",
      "iteration 100\n",
      "iteration 200\n",
      "iteration 300\n",
      "Switched off factor 30\n",
      "iteration 400\n",
      "iteration 500\n",
      "iteration 600\n",
      "iteration 700\n",
      "iteration 800\n",
      "iteration 900\n",
      "iteration 1000\n",
      "iteration 1100\n",
      "iteration 1200\n",
      "iteration 1300\n",
      "iteration 1400\n",
      "iteration 1500\n",
      "iteration 1600\n",
      "iteration 1700\n",
      "iteration 1800\n",
      "iteration 1900\n"
     ]
    },
    {
     "name": "stderr",
     "output_type": "stream",
     "text": [
      "  1%|▏         | 145/10000 [00:00<00:49, 200.48it/s]"
     ]
    },
    {
     "name": "stdout",
     "output_type": "stream",
     "text": [
      "UPDATING LR TO 0.5\n",
      "UPDATING LR TO 0.1\n"
     ]
    },
    {
     "name": "stderr",
     "output_type": "stream",
     "text": [
      "  4%|▍         | 434/10000 [00:02<00:48, 199.18it/s]"
     ]
    },
    {
     "name": "stdout",
     "output_type": "stream",
     "text": [
      "UPDATING LR TO 0.01\n"
     ]
    },
    {
     "name": "stderr",
     "output_type": "stream",
     "text": [
      "  6%|▌         | 615/10000 [00:03<00:47, 197.14it/s]"
     ]
    },
    {
     "name": "stdout",
     "output_type": "stream",
     "text": [
      "UPDATING LR TO 0.001\n",
      "UPDATING LR TO 0.0001\n"
     ]
    },
    {
     "name": "stderr",
     "output_type": "stream",
     "text": [
      "\n"
     ]
    }
   ],
   "source": [
    "for n_active_pathways in [15, 30, 50]:\n",
    "    for trial in range(5):\n",
    "        np.random.seed(trial)\n",
    "        lam = 500/((gene_set_size)*(gene_set_size - 1))\n",
    "        data2, A_star2, theta_star2 = simulate_base_data(N= N,k = k,p = p)\n",
    "        data,base, A_star,gene_sets = create_pathways(n_control_pathways,n_active_pathways=n_active_pathways, gene_set_size=gene_set_size,p =p,N=N, overlap = overlap, signal_strength = signal_strength)\n",
    "        noisy_gs = noisy_gene_sets(gene_sets, p, gene_set_FNR,gene_set_FPR) \n",
    "        X = data + data2\n",
    "        I = create_mask(noisy_gs, G_input = len(noisy_gs), D= p).T.astype(int)\n",
    "        terms = np.array([str(i) for i in range(I.shape[1])])\n",
    "        FA = slalom.initFA(Y = X.astype(float), I = I, terms = terms,noise='gauss', nHidden=5, nHiddenSparse=0,do_preTrain=False, minGenes = 1, pruneGenes = False)\n",
    "        FA.train()\n",
    "        adj_matrix = np.zeros((p,p))\n",
    "        for gene_set in noisy_gs:\n",
    "            for i in gene_set:\n",
    "                for j in gene_set:\n",
    "                    if i!=j:\n",
    "                        adj_matrix[i,j] = 1\n",
    "        adict = {\"global\":adj_matrix, \"ct\": []}\n",
    "        L = {\"global\": k + n_active_pathways + n_control_pathways, \"ct\": 0}\n",
    "        labels = np.array(N*[\"ct\"])\n",
    "        gdspade = SPADE(X = X,L = L,labels = labels,adj_matrix = adict,lam = 0.0001,kappa = 0.3,rho = 0.4,delta = 0.2)\n",
    "        initialize_total(gdspade,{\"global\": noisy_gs, \"ct\":[]}, 25.0)\n",
    "        train(gdspade)\n",
    "        y = gdspade.theta[\"global\"].softmax(dim = 1).mean(axis = 0).detach().numpy()\n",
    "        loadings = gdspade.alpha[\"ct\"].exp().detach().numpy()*y.reshape(1,-1)\n",
    "        to_plot = loadings.mean(axis = 0)\n",
    "        true_labels = np.array([1]*n_active_pathways + [0]*n_control_pathways)\n",
    "        normed1 = (to_plot/to_plot.max())[:n_active_pathways + n_control_pathways]\n",
    "        normed2 = (FA.getRelevance())[k:]\n",
    "        fpr1, tpr1, _ = roc_curve(true_labels, normed1)\n",
    "        roc_auc1 = auc(fpr1, tpr1)\n",
    "        fpr2, tpr2, _ = roc_curve(true_labels, normed2)\n",
    "        roc_auc2 = auc(fpr2, tpr2)\n",
    "        roc_spade.append(roc_auc1)\n",
    "        roc_slalom.append(roc_auc2)\n",
    "        param_vals.append(n_active_pathways)\n"
   ]
  },
  {
   "cell_type": "code",
   "execution_count": 39,
   "id": "e7aa10b8",
   "metadata": {},
   "outputs": [],
   "source": [
    "df = pd.DataFrame()\n",
    "df[\"values\"] = roc_spade + roc_slalom\n",
    "df[\"label\"] = [\"spade\"]*len(roc_spade) + [\"slalom\"]*len(roc_slalom)\n",
    "df[\"p\"] = param_vals + param_vals"
   ]
  },
  {
   "cell_type": "code",
   "execution_count": 42,
   "id": "baf91b75",
   "metadata": {},
   "outputs": [
    {
     "data": {
      "image/png": "[encoded data removed]",
      "text/plain": [
       "<Figure size 428.75x360 with 1 Axes>"
      ]
     },
     "metadata": {
      "needs_background": "light"
     },
     "output_type": "display_data"
    }
   ],
   "source": [
    "g = sns.catplot(x=\"p\", y=\"values\", hue=\"label\", \n",
    "                capsize=.2, palette=\"YlGnBu_d\", \n",
    "                kind=\"point\", ci = 95, data=df[df.p > 5])\n",
    "plt.ylim(0)\n",
    "g.despine(left=True)\n",
    "plt.savefig(\"simulations/og_n_active_pathways.svg\")"
   ]
  }
 ],
 "metadata": {
  "kernelspec": {
   "display_name": "Python 3 (ipykernel)",
   "language": "python",
   "name": "python3"
  },
  "language_info": {
   "codemirror_mode": {
    "name": "ipython",
    "version": 3
   },
   "file_extension": ".py",
   "mimetype": "text/x-python",
   "name": "python",
   "nbconvert_exporter": "python",
   "pygments_lexer": "ipython3",
   "version": "3.7.6"
  }
 },
 "nbformat": 4,
 "nbformat_minor": 5
}
